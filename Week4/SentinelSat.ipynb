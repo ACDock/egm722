{
 "cells": [
  {
   "cell_type": "markdown",
   "id": "abed271e",
   "metadata": {},
   "source": [
    "# searching + downloading sentinel data using sentinelsat"
   ]
  },
  {
   "cell_type": "code",
   "execution_count": null,
   "id": "cac1d768",
   "metadata": {},
   "outputs": [],
   "source": [
    "import geopandas as gpd\n",
    "from sentinelsat import SentinelAPI, make_path_filter\n",
    "from IPython import display\n",
    "import os"
   ]
  },
  {
   "cell_type": "markdown",
   "id": "c2de4cd6",
   "metadata": {},
   "source": [
    "## prepare a search area"
   ]
  },
  {
   "cell_type": "code",
   "execution_count": null,
   "id": "638fe303",
   "metadata": {},
   "outputs": [],
   "source": [
    "rgi_dir = '/media/bob/seabox/RGI/v6.0/' # change this to be wherever you've stored the RGI\n",
    "rgi_alaska = gpd.read_file(os.path.join(rgi_dir, '01_rgi60_Alaska/01_rgi60_Alaska.shp'))\n",
    "\n",
    "# gets all of the region 01-01 (North Alaska) glaciers\n",
    "brooks_range = rgi_alaska[rgi_alaska['O2Region'] == '1']['geometry'].unary_union\n",
    "\n",
    "# gets a well-known text (wkt) representation of the smallest rectangle that covers the glaciers\n",
    "search_area_wkt = brooks_range.minimum_rotated_rectangle.wkt\n",
    "\n",
    "# displays the search area wkt\n",
    "print(search_area_wkt)"
   ]
  },
  {
   "cell_type": "markdown",
   "id": "28038a8e",
   "metadata": {},
   "source": [
    "## search the archive for images\n",
    "\n",
    "### connect to the api"
   ]
  },
  {
   "cell_type": "code",
   "execution_count": null,
   "id": "43acb010",
   "metadata": {},
   "outputs": [],
   "source": [
    "api = SentinelAPI(None, None) # replace None, None with <username>, <password> if you don't have a .netrc file"
   ]
  },
  {
   "cell_type": "markdown",
   "id": "7a38d5b2",
   "metadata": {},
   "source": [
    "### search for images"
   ]
  },
  {
   "cell_type": "code",
   "execution_count": null,
   "id": "592aa7c3",
   "metadata": {},
   "outputs": [],
   "source": [
    "products = api.query(search_area_wkt,\n",
    "                     date=('20210801', '20210930'), # all images from 1 August 2021 to 30 Sept 2021\n",
    "                     platformname='Sentinel-2',\n",
    "                     producttype='S2MSI2A', # surface reflectance product (L2A)\n",
    "                     cloudcoverpercentage=(0, 10), # limit to 10% cloud cover\n",
    "                     snowicepercentage=(0, 40)) # limit to 40% snow/ice cover"
   ]
  },
  {
   "cell_type": "code",
   "execution_count": null,
   "id": "a0b3378d",
   "metadata": {},
   "outputs": [],
   "source": [
    "result = next(iter(products)) # get the next item from the ordereddict\n",
    "\n",
    "products[result] # show the metadata for the first item"
   ]
  },
  {
   "cell_type": "markdown",
   "id": "a425b9a1",
   "metadata": {},
   "source": [
    "### view browse images"
   ]
  },
  {
   "cell_type": "code",
   "execution_count": null,
   "id": "020c0e65",
   "metadata": {},
   "outputs": [],
   "source": [
    "qlook = api.download_quicklook(result) # download the quicklook image for the first result\n",
    "\n",
    "display.Image(qlook['path']) # display the image in the browser"
   ]
  },
  {
   "cell_type": "markdown",
   "id": "47566cc7",
   "metadata": {},
   "source": [
    "### download an individual image"
   ]
  },
  {
   "cell_type": "code",
   "execution_count": null,
   "id": "7841fa96",
   "metadata": {},
   "outputs": [],
   "source": [
    "api.download(first_result, # downloads the first result\n",
    "             nodefilter=make_path_filter(\"*_B*.jp2\")) # only download the image bands (optional)"
   ]
  },
  {
   "cell_type": "markdown",
   "id": "ab726f12",
   "metadata": {},
   "source": [
    "### download all images from a list of products"
   ]
  },
  {
   "cell_type": "code",
   "execution_count": null,
   "id": "a4104965",
   "metadata": {},
   "outputs": [],
   "source": [
    "api.download_all(products,\n",
    "                 n_concurrent_dl=5, # allow up to 5 concurrent downloads\n",
    "                 nodefilter=make_path_filter(\"*_B*.jp2\")) # only down the image bands (optional)"
   ]
  }
 ],
 "metadata": {
  "kernelspec": {
   "display_name": "Python 3 (ipykernel)",
   "language": "python",
   "name": "python3"
  },
  "language_info": {
   "codemirror_mode": {
    "name": "ipython",
    "version": 3
   },
   "file_extension": ".py",
   "mimetype": "text/x-python",
   "name": "python",
   "nbconvert_exporter": "python",
   "pygments_lexer": "ipython3",
   "version": "3.9.16"
  }
 },
 "nbformat": 4,
 "nbformat_minor": 5
}
