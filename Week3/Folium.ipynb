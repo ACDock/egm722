{
 "cells": [
  {
   "cell_type": "markdown",
   "id": "945d79fc",
   "metadata": {},
   "source": [
    "# creating interactive maps with folium and geopandas\n",
    "\n",
    "- create the map object using geopandas explore\n",
    "    - load wards data\n",
    "    - use join (not spatial join) to add additional data?\n",
    "         - number of parks?\n",
    "         - park area?\n",
    "         - calculate park area per capita?\n",
    "         - something to do with public transit?\n",
    "\n",
    "- add some additional data to the map\n",
    "    - bus/train stations? have to give them the link to the data, then download it.\n",
    "    - make the tooltip fancy (Name: , Link: , etc)\n",
    "\n",
    "- changing some different features\n",
    "    - e.g., tooltips/popups, etc.\n",
    "    - changing colormaps (link to matplotlib colormaps)\n",
    "\n",
    "- export to html\n",
    "    - show an example page hosted on github\n",
    "\n",
    "- additional exercise: make a map that ...\n"
   ]
  },
  {
   "cell_type": "code",
   "execution_count": null,
   "id": "f76649d1",
   "metadata": {},
   "outputs": [],
   "source": [
    "import pandas as pd\n",
    "import geopandas as gpd\n",
    "from shapely.geometry import Point\n",
    "import folium\n",
    "\n",
    "\n",
    "def create_marker(row, folium_map):\n",
    "    \"\"\"\n",
    "    Create an airport marker from a row of a pandas DataFrame.    \n",
    "    \"\"\"\n",
    "    marker = folium.Marker([row['lat'], row['lon']],\n",
    "                           icon=folium.Icon(color='red', icon='plane', prefix='fa'))   \n",
    "    marker.add_to(folium_map)\n"
   ]
  },
  {
   "cell_type": "markdown",
   "id": "28aa9984",
   "metadata": {},
   "source": [
    "load the data using geopandas:"
   ]
  },
  {
   "cell_type": "code",
   "execution_count": null,
   "id": "fc9dd9c7",
   "metadata": {},
   "outputs": [],
   "source": [
    "wards = gpd.read_file('data_files/NI_Wards.shp')"
   ]
  },
  {
   "cell_type": "markdown",
   "id": "3b810c7f",
   "metadata": {},
   "source": [
    "see what we're working with using head()"
   ]
  },
  {
   "cell_type": "code",
   "execution_count": null,
   "id": "b6c3aae6",
   "metadata": {},
   "outputs": [],
   "source": [
    "wards.head()"
   ]
  },
  {
   "cell_type": "markdown",
   "id": "32740152",
   "metadata": {},
   "source": [
    "now, create a folium map object using geopandas.GeoDataFrame.explore:"
   ]
  },
  {
   "cell_type": "code",
   "execution_count": null,
   "id": "0db94e45",
   "metadata": {},
   "outputs": [],
   "source": [
    "m = wards.explore('Population', cmap='viridis')\n",
    "m # to show the map"
   ]
  },
  {
   "cell_type": "markdown",
   "id": "c1f5600b",
   "metadata": {},
   "source": [
    "add some point data to the map - maybe points for airports?"
   ]
  },
  {
   "cell_type": "code",
   "execution_count": null,
   "id": "f9fe564f",
   "metadata": {},
   "outputs": [],
   "source": [
    "airports = pd.read_csv('data_files/Airports.csv')\n",
    "airports['geometry'] = list(zip(airports['lon'], airports['lat']))\n",
    "airports['geometry'] = airports['geometry'].apply(Point)\n",
    "\n",
    "airports = gpd.GeoDataFrame(airports)\n",
    "airports.set_crs(epsg=4326, inplace=True)"
   ]
  },
  {
   "cell_type": "markdown",
   "id": "b912076a",
   "metadata": {},
   "source": []
  },
  {
   "cell_type": "code",
   "execution_count": null,
   "id": "d3fe16f6",
   "metadata": {},
   "outputs": [],
   "source": [
    "airports[['name', 'website', 'geometry']].explore('name', m=m, marker_type='marker', popup=True, legend=False,\n",
    "                                                  marker_kwds={'icon': folium.Icon(color='red', icon='plane', prefix='fa')})"
   ]
  },
  {
   "cell_type": "markdown",
   "id": "8b60b2c2",
   "metadata": {},
   "source": []
  },
  {
   "cell_type": "markdown",
   "id": "ef7dc240",
   "metadata": {},
   "source": [
    "load some other data using pandas. Note that this doesn't have any geospatial information, but it does have a ward code."
   ]
  },
  {
   "cell_type": "code",
   "execution_count": null,
   "id": "cb0d63e1",
   "metadata": {},
   "outputs": [],
   "source": [
    "transport = pd.read_csv('data_files/transport_data.csv')\n",
    "transport.head()"
   ]
  },
  {
   "cell_type": "markdown",
   "id": "f47c26be",
   "metadata": {},
   "source": [
    "join the transport data to the wards data using the ward code and `geopandas.GeoDataFrame.merge()`"
   ]
  },
  {
   "cell_type": "code",
   "execution_count": null,
   "id": "84379a00",
   "metadata": {
    "scrolled": true
   },
   "outputs": [],
   "source": [
    "merged = wards.merge(transport, left_on='Ward Code', right_on='Ward Code')\n",
    "merged.head()"
   ]
  },
  {
   "cell_type": "markdown",
   "id": "c2dc9793",
   "metadata": {},
   "source": [
    "now, re-create the map using the transport data joined to the wards, and add the airport markers like we used before"
   ]
  },
  {
   "cell_type": "code",
   "execution_count": null,
   "id": "15be40ea",
   "metadata": {},
   "outputs": [],
   "source": [
    "m = merged.explore('Distance', cmap='plasma', \n",
    "                   legend_kwds={'caption': 'Distance to nearest bus/rail station in km'})\n",
    "\n",
    "airports[['name', 'website', 'geometry']].explore('name', m=m, marker_type='marker', popup=True, legend=False,\n",
    "                                                  marker_kwds={'icon': folium.Icon(color='red', icon='plane', prefix='fa')})\n",
    "\n",
    "m # show the map"
   ]
  },
  {
   "cell_type": "markdown",
   "id": "c3469d5d",
   "metadata": {},
   "source": [
    "save the final map to an html file:"
   ]
  },
  {
   "cell_type": "code",
   "execution_count": null,
   "id": "af9c0e71",
   "metadata": {},
   "outputs": [],
   "source": [
    "m.save('test.html')"
   ]
  },
  {
   "cell_type": "markdown",
   "id": "24d77e43",
   "metadata": {},
   "source": [
    "Additional examples:\n",
    "\n",
    "- add a dropdown to select the base layer (does it save to the html)?\n",
    "- maybe an \"antpath\" example?\n",
    "- marker styles?"
   ]
  },
  {
   "cell_type": "code",
   "execution_count": null,
   "id": "1accfc4a",
   "metadata": {},
   "outputs": [],
   "source": []
  }
 ],
 "metadata": {
  "kernelspec": {
   "display_name": "Python 3 (ipykernel)",
   "language": "python",
   "name": "python3"
  },
  "language_info": {
   "codemirror_mode": {
    "name": "ipython",
    "version": 3
   },
   "file_extension": ".py",
   "mimetype": "text/x-python",
   "name": "python",
   "nbconvert_exporter": "python",
   "pygments_lexer": "ipython3",
   "version": "3.9.16"
  }
 },
 "nbformat": 4,
 "nbformat_minor": 5
}
